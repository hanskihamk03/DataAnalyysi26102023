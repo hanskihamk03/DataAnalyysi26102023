{
 "cells": [
  {
   "cell_type": "code",
   "execution_count": 1,
   "metadata": {},
   "outputs": [
    {
     "name": "stdout",
     "output_type": "stream",
     "text": [
      "Onneksi olkoon! Arvasit oikein.\n"
     ]
    }
   ],
   "source": [
    "# Oikea Nimi\n",
    "oikea_nimi = \"Mario\"\n",
    "\n",
    "# Pyydetään käyttäjää arvaamaan nimi\n",
    "arvaus = input(\"Arvaa nimi: \")\n",
    "\n",
    "# Tarkistetaan, onko arvaus oikein\n",
    "if arvaus == oikea_nimi:\n",
    "    print(\"Onneksi olkoon! Arvasit oikein.\")\n",
    "else:\n",
    "    print(\"Väärin arvattu. Yritä uudelleen.\")\n"
   ]
  }
 ],
 "metadata": {
  "kernelspec": {
   "display_name": "Python 3",
   "language": "python",
   "name": "python3"
  },
  "language_info": {
   "codemirror_mode": {
    "name": "ipython",
    "version": 3
   },
   "file_extension": ".py",
   "mimetype": "text/x-python",
   "name": "python",
   "nbconvert_exporter": "python",
   "pygments_lexer": "ipython3",
   "version": "3.12.0"
  }
 },
 "nbformat": 4,
 "nbformat_minor": 2
}
