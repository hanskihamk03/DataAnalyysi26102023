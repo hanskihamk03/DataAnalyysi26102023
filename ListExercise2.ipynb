{
 "cells": [
  {
   "cell_type": "code",
   "execution_count": 2,
   "metadata": {},
   "outputs": [
    {
     "name": "stdout",
     "output_type": "stream",
     "text": [
      "Heitettyjen noppalukujen lista: [1, 6, 6, 4, 6]\n",
      "Heitettyjen noppalukujen summa: 23\n",
      "Heitettyjen noppalukujen suurin arvo: 6\n"
     ]
    }
   ],
   "source": [
    "import random\n",
    "\n",
    "heitetytNopanNumerot = []\n",
    "\n",
    "for _ in range(5):\n",
    "    heitetytNopanNumerot.append(random.randint(1, 6))\n",
    "\n",
    "print(\"Heitettyjen noppalukujen lista:\", heitetytNopanNumerot)\n",
    "\n",
    "summa = sum(heitetytNopanNumerot)\n",
    "print(\"Heitettyjen noppalukujen summa:\", summa)\n",
    "\n",
    "suurin_arvo = max(heitetytNopanNumerot)\n",
    "print(\"Heitettyjen noppalukujen suurin arvo:\", suurin_arvo)\n"
   ]
  }
 ],
 "metadata": {
  "language_info": {
   "name": "python"
  }
 },
 "nbformat": 4,
 "nbformat_minor": 2
}
