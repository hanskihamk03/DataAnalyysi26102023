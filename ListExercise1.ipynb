{
 "cells": [
  {
   "cell_type": "code",
   "execution_count": 8,
   "metadata": {},
   "outputs": [
    {
     "name": "stdout",
     "output_type": "stream",
     "text": [
      "['table', 'chair', 'shelf', 'sofa', 'pillow']\n",
      "['table', 'chair']\n",
      "sofa\n"
     ]
    }
   ],
   "source": [
    "#Exercise 1\n",
    "\n",
    "furnitures = [\"table\", \"chair\", \"shelf\", \"sofa\", \"pillow\"]\n",
    "print(furnitures)\n",
    "\n",
    "print(furnitures[:2])\n",
    "\n",
    "for item in furnitures:\n",
    "    if item == \"sofa\":\n",
    "        print(\"sofa\")\n",
    "\n",
    "\n",
    "\n"
   ]
  }
 ],
 "metadata": {
  "kernelspec": {
   "display_name": "Python 3",
   "language": "python",
   "name": "python3"
  },
  "language_info": {
   "codemirror_mode": {
    "name": "ipython",
    "version": 3
   },
   "file_extension": ".py",
   "mimetype": "text/x-python",
   "name": "python",
   "nbconvert_exporter": "python",
   "pygments_lexer": "ipython3",
   "version": "3.12.0"
  }
 },
 "nbformat": 4,
 "nbformat_minor": 2
}
