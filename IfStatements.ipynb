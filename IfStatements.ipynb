{
 "cells": [
  {
   "cell_type": "code",
   "execution_count": 28,
   "metadata": {},
   "outputs": [
    {
     "name": "stdout",
     "output_type": "stream",
     "text": [
      "Number1 is greater than number2\n",
      "Number1 is greater or equal to number2\n",
      "Number1 is not equal to number2\n",
      "Number1 is greater than number2\n",
      "Number1 and number3 are equal\n"
     ]
    }
   ],
   "source": [
    "#1.\n",
    "\n",
    "number1 = 3\n",
    "number2 = 2\n",
    "\n",
    "#A\n",
    "\n",
    "if number1 == number2:\n",
    "    print(\"Number1 equal to number2\")\n",
    "    \n",
    "#B\n",
    "\n",
    "if number1 > number2:\n",
    "    print(\"Number1 is greater than number2\")\n",
    "\n",
    "\n",
    "#C\n",
    "\n",
    "if number1 >= number2:\n",
    "    print(\"Number1 is greater or equal to number2\")\n",
    "\n",
    "#D\n",
    "\n",
    "if number1 != number2:\n",
    "    print(\"Number1 is not equal to number2\")\n",
    " \n",
    "\n",
    "#2.    \n",
    "number3 = 3\n",
    "\n",
    "#A\n",
    "if number1 == number2 == number3:\n",
    "    print(\"Number1, number2 and number3 are all equal\")\n",
    "    \n",
    "#B\n",
    "if number1 == number2 or number2 == number3:\n",
    "    print(\"Number1 and number2 are equal OR number2 and number3 are equal\")\n",
    "\n",
    "#C\n",
    "if number1 > number2 and number1 > number3:\n",
    "    print(\"Number1 is greater than number2 AND number1 is greater than number3\")\n",
    "    \n",
    "#D\n",
    "if number1 > number2:\n",
    "    print(\"Number1 is greater than number2\")\n",
    "elif number2 >number3:\n",
    "    print(\"Number2 is greater than number3\")\n",
    "    \n",
    "#E\n",
    "if number1 == number2:\n",
    "    print(\"Number1 and number2 are equal\")\n",
    "elif number1 == number3:\n",
    "    print(\"Number1 and number3 are equal\")"
   ]
  }
 ],
 "metadata": {
  "kernelspec": {
   "display_name": "Python 3",
   "language": "python",
   "name": "python3"
  },
  "language_info": {
   "codemirror_mode": {
    "name": "ipython",
    "version": 3
   },
   "file_extension": ".py",
   "mimetype": "text/x-python",
   "name": "python",
   "nbconvert_exporter": "python",
   "pygments_lexer": "ipython3",
   "version": "3.12.0"
  }
 },
 "nbformat": 4,
 "nbformat_minor": 2
}
