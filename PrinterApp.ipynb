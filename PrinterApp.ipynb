{
 "cells": [
  {
   "cell_type": "code",
   "execution_count": 5,
   "metadata": {},
   "outputs": [
    {
     "ename": "NameError",
     "evalue": "name 'number1' is not defined",
     "output_type": "error",
     "traceback": [
      "\u001b[1;31m---------------------------------------------------------------------------\u001b[0m",
      "\u001b[1;31mNameError\u001b[0m                                 Traceback (most recent call last)",
      "\u001b[1;32mc:\\DataAnalyysi26102023\\PrinterApp.ipynb Cell 1\u001b[0m line \u001b[0;36m2\n\u001b[0;32m      <a href='vscode-notebook-cell:/c%3A/DataAnalyysi26102023/PrinterApp.ipynb#W0sZmlsZQ%3D%3D?line=0'>1</a>\u001b[0m creator \u001b[39m=\u001b[39m \u001b[39m\"\u001b[39m\u001b[39mHanna Honkonen\u001b[39m\u001b[39m\"\u001b[39m\n\u001b[1;32m----> <a href='vscode-notebook-cell:/c%3A/DataAnalyysi26102023/PrinterApp.ipynb#W0sZmlsZQ%3D%3D?line=1'>2</a>\u001b[0m multiplication \u001b[39m=\u001b[39m number1 \u001b[39m*\u001b[39m number2\n\u001b[0;32m      <a href='vscode-notebook-cell:/c%3A/DataAnalyysi26102023/PrinterApp.ipynb#W0sZmlsZQ%3D%3D?line=2'>3</a>\u001b[0m addition \u001b[39m=\u001b[39m number1 \u001b[39m+\u001b[39m number2\n\u001b[0;32m      <a href='vscode-notebook-cell:/c%3A/DataAnalyysi26102023/PrinterApp.ipynb#W0sZmlsZQ%3D%3D?line=3'>4</a>\u001b[0m division \u001b[39m=\u001b[39m number1 \u001b[39m/\u001b[39m number2\n",
      "\u001b[1;31mNameError\u001b[0m: name 'number1' is not defined"
     ]
    }
   ],
   "source": [
    "creator = \"Hanna Honkonen\"\n",
    "multiplication = number1 * number2\n",
    "addition = number1 + number2\n",
    "division = number1 / number2\n",
    "substraction = number1 - number2\n",
    "\n",
    "number1 = 5\n",
    "number2 = 2\n",
    "\n",
    "print(\"Printer App\")\n",
    "print(\"This app is made by \", creator)\n",
    "print()\n",
    "\n",
    "# print(number1)\n",
    "print(\"The value of number1 is \", number1)\n",
    "print(\"The value of number2 is \", number2)\n",
    "print()\n",
    "\n",
    "print(number1, \" * \", number2, \" = \", multiplication)\n",
    "print(number1, \" + \", number2, \" = \", addition)\n",
    "print(number1, \" / \", number2, \" = \", division)\n",
    "print(number1, \" - \", number2, \" = \", substraction)\n",
    "\n",
    "\n"
   ]
  }
 ],
 "metadata": {
  "kernelspec": {
   "display_name": "Python 3",
   "language": "python",
   "name": "python3"
  },
  "language_info": {
   "codemirror_mode": {
    "name": "ipython",
    "version": 3
   },
   "file_extension": ".py",
   "mimetype": "text/x-python",
   "name": "python",
   "nbconvert_exporter": "python",
   "pygments_lexer": "ipython3",
   "version": "3.12.0"
  }
 },
 "nbformat": 4,
 "nbformat_minor": 2
}
